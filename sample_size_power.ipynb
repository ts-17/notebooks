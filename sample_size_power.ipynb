{
 "cells": [
  {
   "cell_type": "code",
   "execution_count": null,
   "id": "89e6c6de",
   "metadata": {},
   "outputs": [
    {
     "name": "stdout",
     "output_type": "stream",
     "text": [
      "Required sample size for each group: 587\n",
      "Minimum detectable difference with n=96: 0.1360\n",
      "Can only reliably detect a difference larger than 13.6% in accuracy\n",
      "Power to detect a 5% difference with n=96: 0.2044\n",
      "So only a 20.4% chance of detecting a true 5% improvement\n"
     ]
    }
   ],
   "source": [
    "import numpy as np\n",
    "from scipy import stats\n",
    "\n",
    "def calculate_sample_size(p1, p2, power=0.8, alpha=0.05):\n",
    "    \"\"\"\n",
    "    Calculates required sample size to detect differences between two proportions\n",
    "    p1 (accuracy of the first classification method)\n",
    "    p2 (accuracy of the second classification method)\n",
    "    power (statistical power 1 - probability of Type II error)\n",
    "    alpha (significance level / probability of Type I error)\n",
    "\n",
    "    n (output: required sample size for each group)\n",
    "    \"\"\"\n",
    "    # critical values for given alpha and power\n",
    "    z_alpha = stats.norm.ppf(1 - alpha/2)\n",
    "    z_beta = stats.norm.ppf(power)\n",
    "\n",
    "    # pool SE components\n",
    "    se1 = p1 * (1 - p1)\n",
    "    se2 = p2 * (1 - p2)\n",
    "\n",
    "    # calculate sample size\n",
    "    n = ((z_alpha + z_beta)**2 * (se1 + se2)) / (p1 - p2)**2\n",
    "\n",
    "    return int(np.ceil(n))\n",
    "\n",
    "def min_detectable_difference(n, p1, power=0.8, alpha=0.05):\n",
    "    z_alpha = stats.norm.ppf(1 - alpha/2)\n",
    "    z_beta = stats.norm.ppf(power)\n",
    "\n",
    "    \"\"\" need to solve for p2 using an approximation\n",
    "    formula: p2 = p1 ± sqrt((z_alpha + z_beta)^2 * (2*p1*(1-p1)) / n)\n",
    "    approximation assumes p1 and p2 aren't too different\"\"\"\n",
    "\n",
    "    # SE under null hypothesis\n",
    "    se_null = np.sqrt(2 * p1 * (1 - p1) / n)\n",
    "\n",
    "    # then min detectable difference\n",
    "    diff = (z_alpha + z_beta) * se_null\n",
    "\n",
    "    return diff\n",
    "\n",
    "def calculate_power(p1, p2, n, alpha=0.05):\n",
    "    z_alpha = stats.norm.ppf(1 - alpha/2)\n",
    "\n",
    "    # SE of difference\n",
    "    se = np.sqrt((p1 * (1 - p1) + p2 * (1 - p2)) / n)\n",
    "\n",
    "    # effect size\n",
    "    delta = abs(p2 - p1)\n",
    "\n",
    "    # calculate test power\n",
    "    z_score = delta / se - z_alpha\n",
    "    power = stats.norm.cdf(z_score)\n",
    "\n",
    "    return power\n",
    "\n",
    "# from Jabbar paper: comparing accuracy of 87% vs 92%\n",
    "p1 = 0.87  # previous best accuracy\n",
    "p2 = 0.92  # claimed new accuracy in the paper\n",
    "n = calculate_sample_size(p1, p2)\n",
    "print(f\"Required sample size for each group: {n}\")\n",
    "\n",
    "actual_n = 96  # sample size in Hyderabad dataset in paper\n",
    "mdd = min_detectable_difference(actual_n, p1)\n",
    "power_5pct = calculate_power(p1, p2, actual_n)\n",
    "\n",
    "print(f\"Minimum detectable difference with n={actual_n}: {mdd:.4f}\")\n",
    "print(f\"Can only reliably detect a difference larger than {mdd*100:.1f}% in accuracy\")\n",
    "\n",
    "print(f\"Power to detect a 5% difference with n={actual_n}: {power_5pct:.4f}\")\n",
    "print(f\"So, only a {power_5pct*100:.1f}% chance of detecting a true 5% improvement\")"
   ]
  },
  {
   "cell_type": "markdown",
   "id": "13a84c01",
   "metadata": {},
   "source": [
    "This is a quick notebook that I put together for my critique of a paper that was covered in a machine learning class titled \"Alternating decision trees for early diagnosis of heart disease\" (Jabbar, 2014) to examine sample size and power of the claims presented in it."
   ]
  }
 ],
 "metadata": {
  "kernelspec": {
   "display_name": ".venv",
   "language": "python",
   "name": "python3"
  },
  "language_info": {
   "codemirror_mode": {
    "name": "ipython",
    "version": 3
   },
   "file_extension": ".py",
   "mimetype": "text/x-python",
   "name": "python",
   "nbconvert_exporter": "python",
   "pygments_lexer": "ipython3",
   "version": "3.13.2"
  }
 },
 "nbformat": 4,
 "nbformat_minor": 5
}
