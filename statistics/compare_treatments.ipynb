{
 "cells": [
  {
   "cell_type": "code",
   "execution_count": null,
   "id": "c681aa18",
   "metadata": {},
   "outputs": [],
   "source": [
    "import numpy as np\n",
    "from scipy.stats import norm\n",
    "from numba import njit  \n",
    "\n",
    "n1, n2 = 200, 200  # samples\n",
    "X1, X2 = 160, 148  # successes\n",
    "\n",
    "#  MLE of p1 and p2\n",
    "p1_hat = X1 / n1\n",
    "p2_hat = X2 / n2\n",
    "psi_hat = p1_hat - p2_hat\n",
    "\n",
    "#Fisher information matrix\n",
    "I_p1 = n1 / (p1_hat * (1 - p1_hat))\n",
    "I_p2 = n2 / (p2_hat * (1 - p2_hat))\n",
    "fisher_info = np.array([[I_p1, 0],\n",
    "                        [0, I_p2]])\n",
    "\n",
    "# asymptotic standard error w/ delta method\n",
    "se_psi = np.sqrt((p1_hat * (1 - p1_hat)) / n1 + (p2_hat * (1 - p2_hat)) / n2)\n",
    "\n",
    "# 90% CI w/ delta method\n",
    "z = norm.ppf(0.95)  # z-score \n",
    "margin_error = z * se_psi  # margin of error\n",
    "ci_delta = (psi_hat - margin_error, psi_hat + margin_error)\n",
    "\n",
    "# 90% CI w/ parametric bootstrap\n",
    "\n",
    "@njit  # jitted function for bootstrap (ninja 4 speed)\n",
    "def bootstrap_bootstrap(B, n1, p1, n2, p2):\n",
    "    bootstrap_psi = np.empty(B)\n",
    "    for b in range(B):\n",
    "        X1_b = np.random.binomial(n1, p1)\n",
    "        X2_b = np.random.binomial(n2, p2)\n",
    "        bootstrap_psi[b] = (X1_b / n1) - (X2_b / n2)\n",
    "    return bootstrap_psi\n",
    "\n",
    "B = 1_000_000  # arbitrarily large\n",
    "np.random.seed(243624)  # reproducibility\n",
    "bootstrap_psi = bootstrap_bootstrap(B, n1, p1_hat, n2, p2_hat)\n",
    "ci_bootstrap = np.percentile(bootstrap_psi, [5, 95])\n",
    "\n",
    "# print results\n",
    "print(f\"MLE of psi: {psi_hat:.4f}\")  # print psi_hat\n",
    "print(f\"90% CI using delta method: ({ci_delta[0]:.3f}, {ci_delta[1]:.3f})\")\n",
    "print(f\"90% CI using bootstrap: ({ci_bootstrap[0]:.3f}, {ci_bootstrap[1]:.3f})\")"
   ]
  }
 ],
 "metadata": {
  "language_info": {
   "name": "python"
  }
 },
 "nbformat": 4,
 "nbformat_minor": 5
}
